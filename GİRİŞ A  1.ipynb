{
 "cells": [
  {
   "cell_type": "code",
   "execution_count": 2,
   "id": "cf90c801",
   "metadata": {},
   "outputs": [
    {
     "name": "stdout",
     "output_type": "stream",
     "text": [
      "Python programlama dili\n"
     ]
    }
   ],
   "source": [
    " print(\"Python programlama dili\")"
   ]
  },
  {
   "cell_type": "code",
   "execution_count": 9,
   "id": "856f4fd1",
   "metadata": {},
   "outputs": [
    {
     "ename": "IndentationError",
     "evalue": "unexpected indent (3920791589.py, line 2)",
     "output_type": "error",
     "traceback": [
      "\u001b[1;36m  Cell \u001b[1;32mIn[9], line 2\u001b[1;36m\u001b[0m\n\u001b[1;33m    print(dil)\u001b[0m\n\u001b[1;37m    ^\u001b[0m\n\u001b[1;31mIndentationError\u001b[0m\u001b[1;31m:\u001b[0m unexpected indent\n"
     ]
    }
   ],
   "source": [
    "dil =() \"Python programlama dili\"\n",
    "print(dil)\n"
   ]
  },
  {
   "cell_type": "code",
   "execution_count": 1,
   "id": "e5fb19e8",
   "metadata": {},
   "outputs": [
    {
     "name": "stdout",
     "output_type": "stream",
     "text": [
      "Python programlama dili\n"
     ]
    }
   ],
   "source": [
    "print(\"\"\"Python programlama dili\"\"\")"
   ]
  },
  {
   "cell_type": "code",
   "execution_count": 2,
   "id": "63aea3e8",
   "metadata": {},
   "outputs": [
    {
     "name": "stdout",
     "output_type": "stream",
     "text": [
      "Python programlama dilinin adı \"piton\" yılanından gelmez\n"
     ]
    }
   ],
   "source": [
    "print('Python programlama dilinin adı \"piton\" yılanından gelmez')"
   ]
  },
  {
   "cell_type": "code",
   "execution_count": 3,
   "id": "b13f97ae",
   "metadata": {},
   "outputs": [
    {
     "name": "stdout",
     "output_type": "stream",
     "text": [
      "\n",
      " [H]=========HARMAN========[-][o][x]\n",
      " | |\n",
      " | Programa Hoşgeldiniz! |\n",
      " | Sürüm 0.8 |\n",
      " | Devam etmek için herhangi |\n",
      " | bir düğmeye basın. |\n",
      " | |\n",
      " |=================================|\n",
      " \n"
     ]
    }
   ],
   "source": [
    "print(\"\"\"\n",
    " [H]=========HARMAN========[-][o][x]\n",
    " | |\n",
    " | Programa Hoşgeldiniz! |\n",
    " | Sürüm 0.8 |\n",
    " | Devam etmek için herhangi |\n",
    " | bir düğmeye basın. |\n",
    " | |\n",
    " |=================================|\n",
    " \"\"\")"
   ]
  },
  {
   "cell_type": "code",
   "execution_count": 6,
   "id": "eddb68f4",
   "metadata": {},
   "outputs": [
    {
     "name": "stdout",
     "output_type": "stream",
     "text": [
      "Game Over!\n",
      " Insert Coin!\n"
     ]
    }
   ],
   "source": [
    "print (\"\"\"Game Over!\n",
    " Insert Coin!\"\"\")"
   ]
  },
  {
   "cell_type": "code",
   "execution_count": 7,
   "id": "bdb3cbfd",
   "metadata": {},
   "outputs": [
    {
     "name": "stdout",
     "output_type": "stream",
     "text": [
      "Python programlama dili Guido Van Rossum\n",
      "adlı Hollandalı bir programcı tarafından 90’lı yılların başında geliştirilmeye başlanmıştır. Çoğu. insan, isminin \"Python\" olmasına bakarak, bu programlama\n",
      "dilinin, adını piton yılanından aldığını düşünür.. Ancak zannedildiğinin aksine bu programlama dilinin\n",
      "adı piton yılanından gelmez.\n"
     ]
    }
   ],
   "source": [
    " print(\"\"\"Python programlama dili Guido Van Rossum\n",
    " adlı Hollandalı bir programcı tarafından 90’lı yılların başında geliştirilmeye başlanmıştır. Çoğu. insan, isminin \"Python\" olmasına bakarak, bu programlama\n",
    "dilinin, adını piton yılanından aldığını düşünür.. Ancak zannedildiğinin aksine bu programlama dilinin\n",
    "adı piton yılanından gelmez.\"\"\")\n"
   ]
  },
  {
   "cell_type": "code",
   "execution_count": 8,
   "id": "f7cf758b",
   "metadata": {},
   "outputs": [
    {
     "name": "stdout",
     "output_type": "stream",
     "text": [
      "Fırat Özgül\n"
     ]
    }
   ],
   "source": [
    "print('Fırat', 'Özgül')"
   ]
  },
  {
   "cell_type": "code",
   "execution_count": 9,
   "id": "e3b1b0f7",
   "metadata": {},
   "outputs": [
    {
     "name": "stdout",
     "output_type": "stream",
     "text": [
      "Fırat Özgül Adana 1980\n"
     ]
    }
   ],
   "source": [
    "print('Fırat', 'Özgül', 'Adana', 1980)"
   ]
  },
  {
   "cell_type": "code",
   "execution_count": 10,
   "id": "df02da5c",
   "metadata": {},
   "outputs": [
    {
     "name": "stdout",
     "output_type": "stream",
     "text": [
      "Python PHP C++ C Erlang\n"
     ]
    }
   ],
   "source": [
    "print(\"Python\", \"PHP\", \"C++\", \"C\", \"Erlang\")\n"
   ]
  },
  {
   "cell_type": "code",
   "execution_count": 12,
   "id": "444c3eb9",
   "metadata": {},
   "outputs": [
    {
     "name": "stdout",
     "output_type": "stream",
     "text": [
      "recep, yıldırır, D.BAKIR , 2002 ,   20\n"
     ]
    }
   ],
   "source": [
    "print ('recep, yıldırır, D.BAKIR , 2002 ,   20')"
   ]
  },
  {
   "cell_type": "code",
   "execution_count": 13,
   "id": "bab1fc15",
   "metadata": {},
   "outputs": [
    {
     "name": "stdout",
     "output_type": "stream",
     "text": [
      "http:// www. google. com\n"
     ]
    }
   ],
   "source": [
    "print(\"http://\", \"www.\", \"google.\", \"com\")"
   ]
  },
  {
   "cell_type": "code",
   "execution_count": 14,
   "id": "a975b072",
   "metadata": {},
   "outputs": [
    {
     "name": "stdout",
     "output_type": "stream",
     "text": [
      "http:// www. google. com\n"
     ]
    }
   ],
   "source": [
    "print(\"http://\", \"www.\", \"google.\", \"com\", sep=\" \")"
   ]
  },
  {
   "cell_type": "code",
   "execution_count": 15,
   "id": "7f9213eb",
   "metadata": {},
   "outputs": [
    {
     "name": "stdout",
     "output_type": "stream",
     "text": [
      "http://www.istihza.com\n"
     ]
    }
   ],
   "source": [
    "print(\"http://\", \"www.\", \"istihza.\", \"com\", sep=\"\")"
   ]
  },
  {
   "cell_type": "code",
   "execution_count": 21,
   "id": "ab33b40b",
   "metadata": {},
   "outputs": [
    {
     "name": "stdout",
     "output_type": "stream",
     "text": [
      "d.bakır-mardin\n"
     ]
    }
   ],
   "source": [
    "print ( \"d.bakır\", \"mardin\" , sep= \"-\" )"
   ]
  },
  {
   "cell_type": "code",
   "execution_count": 23,
   "id": "0fb3a458",
   "metadata": {},
   "outputs": [
    {
     "name": "stdout",
     "output_type": "stream",
     "text": [
      "birmumdurikimumdurüçmumdurdörtmumduron dört\n"
     ]
    }
   ],
   "source": [
    "print(\"bir\", \"iki\", \"üç\", \"dört\", \"on dört\", sep=\"mumdur\")"
   ]
  },
  {
   "cell_type": "code",
   "execution_count": 25,
   "id": "6dbafc18",
   "metadata": {},
   "outputs": [
    {
     "name": "stdout",
     "output_type": "stream",
     "text": [
      "recep aziz yıldırır\n"
     ]
    }
   ],
   "source": [
    "print ( \"recep\" , \"yıldırır\" , sep =\" aziz \" )"
   ]
  },
  {
   "cell_type": "code",
   "execution_count": 30,
   "id": "0e1b712b",
   "metadata": {},
   "outputs": [
    {
     "name": "stdout",
     "output_type": "stream",
     "text": [
      "ab\n"
     ]
    }
   ],
   "source": [
    "print('a', 'b', sep='')"
   ]
  },
  {
   "cell_type": "code",
   "execution_count": 32,
   "id": "2c3e3097",
   "metadata": {},
   "outputs": [
    {
     "name": "stdout",
     "output_type": "stream",
     "text": [
      "azizrecep\n"
     ]
    }
   ],
   "source": [
    "print ( 'aziz', 'recep' , sep='')"
   ]
  },
  {
   "cell_type": "code",
   "execution_count": 33,
   "id": "35d07961",
   "metadata": {},
   "outputs": [
    {
     "name": "stdout",
     "output_type": "stream",
     "text": [
      "birinci satır\n",
      "ikinci satır\n",
      "üçüncü satır\n"
     ]
    }
   ],
   "source": [
    "print(\"birinci satır\\nikinci satır\\nüçüncü satır\")"
   ]
  },
  {
   "cell_type": "code",
   "execution_count": 2,
   "id": "7e423e1f",
   "metadata": {},
   "outputs": [
    {
     "name": "stdout",
     "output_type": "stream",
     "text": [
      "recep\n",
      "aziz\n",
      "yıldırır\n"
     ]
    }
   ],
   "source": [
    "print (\"recep\", \"aziz\" , \"yıldırır\", sep = \"\\n\")"
   ]
  },
  {
   "cell_type": "code",
   "execution_count": 10,
   "id": "c01a2fc3",
   "metadata": {},
   "outputs": [],
   "source": [
    "sözlük3= { \"bir\": 1,\"iki\":2,\"üç\" :3 }"
   ]
  },
  {
   "cell_type": "code",
   "execution_count": 62,
   "id": "dec854a7",
   "metadata": {},
   "outputs": [
    {
     "data": {
      "text/plain": [
       "['beş']"
      ]
     },
     "execution_count": 62,
     "metadata": {},
     "output_type": "execute_result"
    }
   ],
   "source": [
    "sözlük3"
   ]
  },
  {
   "cell_type": "code",
   "execution_count": 17,
   "id": "1e5d774d",
   "metadata": {},
   "outputs": [
    {
     "data": {
      "text/plain": [
       "1"
      ]
     },
     "execution_count": 17,
     "metadata": {},
     "output_type": "execute_result"
    }
   ],
   "source": [
    "sözlük3[\"bir\"]"
   ]
  },
  {
   "cell_type": "code",
   "execution_count": 57,
   "id": "50d4f0ba",
   "metadata": {},
   "outputs": [
    {
     "data": {
      "text/plain": [
       "['beş']"
      ]
     },
     "execution_count": 57,
     "metadata": {},
     "output_type": "execute_result"
    }
   ],
   "source": [
    "sözlük3"
   ]
  },
  {
   "cell_type": "code",
   "execution_count": 20,
   "id": "f3eb260c",
   "metadata": {},
   "outputs": [],
   "source": [
    "sözlük3[\"beş\"]=5"
   ]
  },
  {
   "cell_type": "code",
   "execution_count": 21,
   "id": "0cee3c26",
   "metadata": {},
   "outputs": [
    {
     "data": {
      "text/plain": [
       "{'bir': 1, 'iki': 2, 'üç': 3, 'beş': 5}"
      ]
     },
     "execution_count": 21,
     "metadata": {},
     "output_type": "execute_result"
    }
   ],
   "source": [
    "sözlük3"
   ]
  },
  {
   "cell_type": "code",
   "execution_count": 32,
   "id": "6d353ee0",
   "metadata": {},
   "outputs": [],
   "source": [
    "aziz= { \"bir\" : [1,2,3,4], \"iki \" : [ [1,2], [3,4], [5,6] ] , \"üç\" :  15 }"
   ]
  },
  {
   "cell_type": "code",
   "execution_count": 30,
   "id": "fe360be1",
   "metadata": {},
   "outputs": [
    {
     "data": {
      "text/plain": [
       "[1, 2, 3, 4]"
      ]
     },
     "execution_count": 30,
     "metadata": {},
     "output_type": "execute_result"
    }
   ],
   "source": [
    "aziz[\"bir\"]"
   ]
  },
  {
   "cell_type": "code",
   "execution_count": 34,
   "id": "90b7ad4a",
   "metadata": {},
   "outputs": [
    {
     "data": {
      "text/plain": [
       "[[1, 2], [3, 4], [5, 6]]"
      ]
     },
     "execution_count": 34,
     "metadata": {},
     "output_type": "execute_result"
    }
   ],
   "source": [
    "aziz[ \"iki \"]"
   ]
  },
  {
   "cell_type": "code",
   "execution_count": 35,
   "id": "68b5538c",
   "metadata": {},
   "outputs": [
    {
     "data": {
      "text/plain": [
       "[5, 6]"
      ]
     },
     "execution_count": 35,
     "metadata": {},
     "output_type": "execute_result"
    }
   ],
   "source": [
    "aziz[ \"iki \"][2]"
   ]
  },
  {
   "cell_type": "code",
   "execution_count": 36,
   "id": "26ffdbff",
   "metadata": {},
   "outputs": [
    {
     "data": {
      "text/plain": [
       "6"
      ]
     },
     "execution_count": 36,
     "metadata": {},
     "output_type": "execute_result"
    }
   ],
   "source": [
    "aziz[ \"iki \"][2][1]"
   ]
  },
  {
   "cell_type": "code",
   "execution_count": 39,
   "id": "faa6ec19",
   "metadata": {},
   "outputs": [],
   "source": [
    "sözlük3[\"beş\"]=10"
   ]
  },
  {
   "cell_type": "code",
   "execution_count": 40,
   "id": "809d8da4",
   "metadata": {},
   "outputs": [
    {
     "data": {
      "text/plain": [
       "{'bir': 1, 'iki': 2, 'üç': 3, 'beş': 10, 5: 10}"
      ]
     },
     "execution_count": 40,
     "metadata": {},
     "output_type": "execute_result"
    }
   ],
   "source": [
    "sözlük3"
   ]
  },
  {
   "cell_type": "code",
   "execution_count": 54,
   "id": "49cf560c",
   "metadata": {},
   "outputs": [
    {
     "ename": "TypeError",
     "evalue": "list indices must be integers or slices, not str",
     "output_type": "error",
     "traceback": [
      "\u001b[1;31m---------------------------------------------------------------------------\u001b[0m",
      "\u001b[1;31mTypeError\u001b[0m                                 Traceback (most recent call last)",
      "Cell \u001b[1;32mIn[54], line 1\u001b[0m\n\u001b[1;32m----> 1\u001b[0m \u001b[43msözlük3\u001b[49m\u001b[43m[\u001b[49m\u001b[38;5;124;43m\"\u001b[39;49m\u001b[38;5;124;43müç\u001b[39;49m\u001b[38;5;124;43m\"\u001b[39;49m\u001b[43m]\u001b[49m\u001b[38;5;241m=\u001b[39m \u001b[38;5;241m3\u001b[39m\n",
      "\u001b[1;31mTypeError\u001b[0m: list indices must be integers or slices, not str"
     ]
    }
   ],
   "source": [
    "sözlük3[\"üç\"]= 3"
   ]
  },
  {
   "cell_type": "code",
   "execution_count": 56,
   "id": "5576f1be",
   "metadata": {},
   "outputs": [
    {
     "data": {
      "text/plain": [
       "['beş']"
      ]
     },
     "execution_count": 56,
     "metadata": {},
     "output_type": "execute_result"
    }
   ],
   "source": [
    "sözlük3"
   ]
  },
  {
   "cell_type": "code",
   "execution_count": 65,
   "id": "687b9fb7",
   "metadata": {},
   "outputs": [],
   "source": [
    "sözlük4= { \"bir\": 1,\"iki\":2,\"üç\" :3 }"
   ]
  },
  {
   "cell_type": "code",
   "execution_count": 67,
   "id": "cff34d24",
   "metadata": {},
   "outputs": [
    {
     "data": {
      "text/plain": [
       "{'bir': 1, 'iki': 2, 'üç': 3}"
      ]
     },
     "execution_count": 67,
     "metadata": {},
     "output_type": "execute_result"
    }
   ],
   "source": [
    "sözlük4"
   ]
  },
  {
   "cell_type": "code",
   "execution_count": 68,
   "id": "1f3c3c95",
   "metadata": {},
   "outputs": [
    {
     "data": {
      "text/plain": [
       "dict_keys(['bir', 'iki', 'üç'])"
      ]
     },
     "execution_count": 68,
     "metadata": {},
     "output_type": "execute_result"
    }
   ],
   "source": [
    "sözlük4.keys()"
   ]
  },
  {
   "cell_type": "code",
   "execution_count": 69,
   "id": "36177c27",
   "metadata": {},
   "outputs": [
    {
     "data": {
      "text/plain": [
       "dict_values([1, 2, 3])"
      ]
     },
     "execution_count": 69,
     "metadata": {},
     "output_type": "execute_result"
    }
   ],
   "source": [
    "sözlük4.values()"
   ]
  },
  {
   "cell_type": "code",
   "execution_count": 70,
   "id": "4d0d3244",
   "metadata": {},
   "outputs": [
    {
     "data": {
      "text/plain": [
       "dict_items([('bir', 1), ('iki', 2), ('üç', 3)])"
      ]
     },
     "execution_count": 70,
     "metadata": {},
     "output_type": "execute_result"
    }
   ],
   "source": [
    "sözlük4.items()"
   ]
  },
  {
   "cell_type": "code",
   "execution_count": 72,
   "id": "92483060",
   "metadata": {},
   "outputs": [
    {
     "name": "stdout",
     "output_type": "stream",
     "text": [
      "bir 1\n",
      "iki 2\n",
      "üç 3\n"
     ]
    }
   ],
   "source": [
    "for k,v in sözlük4.items():\n",
    "    print (k,v)"
   ]
  },
  {
   "cell_type": "code",
   "execution_count": 73,
   "id": "42d5317c",
   "metadata": {},
   "outputs": [
    {
     "name": "stdout",
     "output_type": "stream",
     "text": [
      "21\n"
     ]
    },
    {
     "data": {
      "text/plain": [
       "'21'"
      ]
     },
     "execution_count": 73,
     "metadata": {},
     "output_type": "execute_result"
    }
   ],
   "source": [
    "input()"
   ]
  },
  {
   "cell_type": "code",
   "execution_count": 75,
   "id": "499e59c4",
   "metadata": {},
   "outputs": [
    {
     "name": "stdout",
     "output_type": "stream",
     "text": [
      "lütfen bir sayı giriniz : 21\n"
     ]
    },
    {
     "data": {
      "text/plain": [
       "'21'"
      ]
     },
     "execution_count": 75,
     "metadata": {},
     "output_type": "execute_result"
    }
   ],
   "source": [
    "input('lütfen bir sayı giriniz : '"
   ]
  },
  {
   "cell_type": "code",
   "execution_count": null,
   "id": "df5a569c",
   "metadata": {},
   "outputs": [],
   "source": [
    "a = input ('lütfen bir sayı giriniz : ')\n",
    "print (\"kulanıcının girdiği say\" ,a )"
   ]
  },
  {
   "cell_type": "code",
   "execution_count": null,
   "id": "01f2d4c2",
   "metadata": {},
   "outputs": [],
   "source": []
  },
  {
   "cell_type": "code",
   "execution_count": null,
   "id": "3fc016f0",
   "metadata": {},
   "outputs": [],
   "source": []
  }
 ],
 "metadata": {
  "kernelspec": {
   "display_name": "Python 3 (ipykernel)",
   "language": "python",
   "name": "python3"
  },
  "language_info": {
   "codemirror_mode": {
    "name": "ipython",
    "version": 3
   },
   "file_extension": ".py",
   "mimetype": "text/x-python",
   "name": "python",
   "nbconvert_exporter": "python",
   "pygments_lexer": "ipython3",
   "version": "3.11.3"
  }
 },
 "nbformat": 4,
 "nbformat_minor": 5
}
