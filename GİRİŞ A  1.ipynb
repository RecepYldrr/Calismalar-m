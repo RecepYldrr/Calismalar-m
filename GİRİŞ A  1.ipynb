{
 "cells": [
  {
   "cell_type": "code",
   "execution_count": 2,
   "id": "cf90c801",
   "metadata": {},
   "outputs": [
    {
     "name": "stdout",
     "output_type": "stream",
     "text": [
      "Python programlama dili\n"
     ]
    }
   ],
   "source": [
    " print(\"Python programlama dili\")"
   ]
  },
  {
   "cell_type": "code",
   "execution_count": 9,
   "id": "856f4fd1",
   "metadata": {},
   "outputs": [
    {
     "ename": "IndentationError",
     "evalue": "unexpected indent (3920791589.py, line 2)",
     "output_type": "error",
     "traceback": [
      "\u001b[1;36m  Cell \u001b[1;32mIn[9], line 2\u001b[1;36m\u001b[0m\n\u001b[1;33m    print(dil)\u001b[0m\n\u001b[1;37m    ^\u001b[0m\n\u001b[1;31mIndentationError\u001b[0m\u001b[1;31m:\u001b[0m unexpected indent\n"
     ]
    }
   ],
   "source": [
    "dil =() \"Python programlama dili\"\n",
    "print(dil)\n"
   ]
  },
  {
   "cell_type": "code",
   "execution_count": 1,
   "id": "e5fb19e8",
   "metadata": {},
   "outputs": [
    {
     "name": "stdout",
     "output_type": "stream",
     "text": [
      "Python programlama dili\n"
     ]
    }
   ],
   "source": [
    "print(\"\"\"Python programlama dili\"\"\")"
   ]
  },
  {
   "cell_type": "code",
   "execution_count": 2,
   "id": "63aea3e8",
   "metadata": {},
   "outputs": [
    {
     "name": "stdout",
     "output_type": "stream",
     "text": [
      "Python programlama dilinin adı \"piton\" yılanından gelmez\n"
     ]
    }
   ],
   "source": [
    "print('Python programlama dilinin adı \"piton\" yılanından gelmez')"
   ]
  },
  {
   "cell_type": "code",
   "execution_count": 3,
   "id": "d209e21b",
   "metadata": {},
   "outputs": [
    {
     "name": "stdout",
     "output_type": "stream",
     "text": [
      "\n",
      " [H]=========HARMAN========[-][o][x]\n",
      " | |\n",
      " | Programa Hoşgeldiniz! |\n",
      " | Sürüm 0.8 |\n",
      " | Devam etmek için herhangi |\n",
      " | bir düğmeye basın. |\n",
      " | |\n",
      " |=================================|\n",
      " \n"
     ]
    }
   ],
   "source": [
    "print(\"\"\"\n",
    " [H]=========HARMAN========[-][o][x]\n",
    " | |\n",
    " | Programa Hoşgeldiniz! |\n",
    " | Sürüm 0.8 |\n",
    " | Devam etmek için herhangi |\n",
    " | bir düğmeye basın. |\n",
    " | |\n",
    " |=================================|\n",
    " \"\"\")"
   ]
  },
  {
   "cell_type": "code",
   "execution_count": 6,
   "id": "8fea2df0",
   "metadata": {},
   "outputs": [
    {
     "name": "stdout",
     "output_type": "stream",
     "text": [
      "Game Over!\n",
      " Insert Coin!\n"
     ]
    }
   ],
   "source": [
    "print (\"\"\"Game Over!\n",
    " Insert Coin!\"\"\")"
   ]
  },
  {
   "cell_type": "code",
   "execution_count": 7,
   "id": "317df7de",
   "metadata": {},
   "outputs": [
    {
     "name": "stdout",
     "output_type": "stream",
     "text": [
      "Python programlama dili Guido Van Rossum\n",
      "adlı Hollandalı bir programcı tarafından 90’lı yılların başında geliştirilmeye başlanmıştır. Çoğu. insan, isminin \"Python\" olmasına bakarak, bu programlama\n",
      "dilinin, adını piton yılanından aldığını düşünür.. Ancak zannedildiğinin aksine bu programlama dilinin\n",
      "adı piton yılanından gelmez.\n"
     ]
    }
   ],
   "source": [
    " print(\"\"\"Python programlama dili Guido Van Rossum\n",
    " adlı Hollandalı bir programcı tarafından 90’lı yılların başında geliştirilmeye başlanmıştır. Çoğu. insan, isminin \"Python\" olmasına bakarak, bu programlama\n",
    "dilinin, adını piton yılanından aldığını düşünür.. Ancak zannedildiğinin aksine bu programlama dilinin\n",
    "adı piton yılanından gelmez.\"\"\")\n"
   ]
  },
  {
   "cell_type": "code",
   "execution_count": 8,
   "id": "19870e00",
   "metadata": {},
   "outputs": [
    {
     "name": "stdout",
     "output_type": "stream",
     "text": [
      "Fırat Özgül\n"
     ]
    }
   ],
   "source": [
    "print('Fırat', 'Özgül')"
   ]
  },
  {
   "cell_type": "code",
   "execution_count": 9,
   "id": "5b910aeb",
   "metadata": {},
   "outputs": [
    {
     "name": "stdout",
     "output_type": "stream",
     "text": [
      "Fırat Özgül Adana 1980\n"
     ]
    }
   ],
   "source": [
    "print('Fırat', 'Özgül', 'Adana', 1980)"
   ]
  },
  {
   "cell_type": "code",
   "execution_count": 10,
   "id": "b8dc65f8",
   "metadata": {},
   "outputs": [
    {
     "name": "stdout",
     "output_type": "stream",
     "text": [
      "Python PHP C++ C Erlang\n"
     ]
    }
   ],
   "source": [
    "print(\"Python\", \"PHP\", \"C++\", \"C\", \"Erlang\")\n"
   ]
  },
  {
   "cell_type": "code",
   "execution_count": 12,
   "id": "33549b67",
   "metadata": {},
   "outputs": [
    {
     "name": "stdout",
     "output_type": "stream",
     "text": [
      "recep, yıldırır, D.BAKIR , 2002 ,   20\n"
     ]
    }
   ],
   "source": [
    "print ('recep, yıldırır, D.BAKIR , 2002 ,   20')"
   ]
  },
  {
   "cell_type": "code",
   "execution_count": 13,
   "id": "f01d7b66",
   "metadata": {},
   "outputs": [
    {
     "name": "stdout",
     "output_type": "stream",
     "text": [
      "http:// www. google. com\n"
     ]
    }
   ],
   "source": [
    "print(\"http://\", \"www.\", \"google.\", \"com\")"
   ]
  },
  {
   "cell_type": "code",
   "execution_count": 14,
   "id": "61e114a5",
   "metadata": {},
   "outputs": [
    {
     "name": "stdout",
     "output_type": "stream",
     "text": [
      "http:// www. google. com\n"
     ]
    }
   ],
   "source": [
    "print(\"http://\", \"www.\", \"google.\", \"com\", sep=\" \")"
   ]
  },
  {
   "cell_type": "code",
   "execution_count": 15,
   "id": "c82ece61",
   "metadata": {},
   "outputs": [
    {
     "name": "stdout",
     "output_type": "stream",
     "text": [
      "http://www.istihza.com\n"
     ]
    }
   ],
   "source": [
    "print(\"http://\", \"www.\", \"istihza.\", \"com\", sep=\"\")"
   ]
  },
  {
   "cell_type": "code",
   "execution_count": 21,
   "id": "16e23749",
   "metadata": {},
   "outputs": [
    {
     "name": "stdout",
     "output_type": "stream",
     "text": [
      "d.bakır-mardin\n"
     ]
    }
   ],
   "source": [
    "print ( \"d.bakır\", \"mardin\" , sep= \"-\" )"
   ]
  },
  {
   "cell_type": "code",
   "execution_count": 23,
   "id": "cf1bf1ea",
   "metadata": {},
   "outputs": [
    {
     "name": "stdout",
     "output_type": "stream",
     "text": [
      "birmumdurikimumdurüçmumdurdörtmumduron dört\n"
     ]
    }
   ],
   "source": [
    "print(\"bir\", \"iki\", \"üç\", \"dört\", \"on dört\", sep=\"mumdur\")"
   ]
  },
  {
   "cell_type": "code",
   "execution_count": 25,
   "id": "42a131fd",
   "metadata": {},
   "outputs": [
    {
     "name": "stdout",
     "output_type": "stream",
     "text": [
      "recep aziz yıldırır\n"
     ]
    }
   ],
   "source": [
    "print ( \"recep\" , \"yıldırır\" , sep =\" aziz \" )"
   ]
  },
  {
   "cell_type": "code",
   "execution_count": 30,
   "id": "1a02ca9f",
   "metadata": {},
   "outputs": [
    {
     "name": "stdout",
     "output_type": "stream",
     "text": [
      "ab\n"
     ]
    }
   ],
   "source": [
    "print('a', 'b', sep='')"
   ]
  },
  {
   "cell_type": "code",
   "execution_count": 32,
   "id": "f5449d00",
   "metadata": {},
   "outputs": [
    {
     "name": "stdout",
     "output_type": "stream",
     "text": [
      "azizrecep\n"
     ]
    }
   ],
   "source": [
    "print ( 'aziz', 'recep' , sep='')"
   ]
  },
  {
   "cell_type": "code",
   "execution_count": 33,
   "id": "9500203d",
   "metadata": {},
   "outputs": [
    {
     "name": "stdout",
     "output_type": "stream",
     "text": [
      "birinci satır\n",
      "ikinci satır\n",
      "üçüncü satır\n"
     ]
    }
   ],
   "source": [
    "print(\"birinci satır\\nikinci satır\\nüçüncü satır\")"
   ]
  },
  {
   "cell_type": "code",
   "execution_count": null,
   "id": "66cbfcf6",
   "metadata": {},
   "outputs": [],
   "source": [
    "print (\"recep\", \"aziz\" , \"yıldırır\" )"
   ]
  }
 ],
 "metadata": {
  "kernelspec": {
   "display_name": "Python 3 (ipykernel)",
   "language": "python",
   "name": "python3"
  },
  "language_info": {
   "codemirror_mode": {
    "name": "ipython",
    "version": 3
   },
   "file_extension": ".py",
   "mimetype": "text/x-python",
   "name": "python",
   "nbconvert_exporter": "python",
   "pygments_lexer": "ipython3",
   "version": "3.11.3"
  }
 },
 "nbformat": 4,
 "nbformat_minor": 5
}
